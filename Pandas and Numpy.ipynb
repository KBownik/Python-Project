{
 "cells": [
  {
   "cell_type": "markdown",
   "metadata": {},
   "source": [
    "# Zadanie\n",
    "\n",
    "### Wstęp \n",
    "\n",
    "Celem projektu jest oddtworzenie zadanych poleceń z sql za pomocą funkcji i metod z pakietu pandas, a także upewnienie się, że uzyskane przez nas wyniki są tożsame, co sprawdzimy przy pomocy dostępnej w pakiecie pandas metody .equals().\n"
   ]
  },
  {
   "cell_type": "code",
   "execution_count": 64,
   "metadata": {},
   "outputs": [],
   "source": [
    "import pandas as pd\n",
    "import numpy as np\n",
    "import os, os.path\n",
    "import sqlite3\n",
    "import tempfile\n",
    "\n",
    "baza = os.path.join(tempfile.mkdtemp(), 'baza.db')\n",
    "if os.path.isfile(baza):\n",
    "    os.remove(baza) \n",
    "\n",
    "conn = sqlite3.connect(baza)\n",
    "\n",
    "\n",
    "Tags = pd.read_csv(\"Tags.csv\")\n",
    "Posts = pd.read_csv(\"Posts.csv\")\n",
    "Comments = pd.read_csv(\"Comments.csv\")\n",
    "Users = pd.read_csv(\"Users.csv\")\n",
    "\n",
    "Tags.to_sql(\"Tags\", conn)\n",
    "Posts.to_sql(\"Posts\", conn)\n",
    "Comments.to_sql(\"Comments\", conn)\n",
    "Users.to_sql(\"Users\", conn)"
   ]
  },
  {
   "cell_type": "markdown",
   "metadata": {},
   "source": [
    "### Przykład 1\n",
    "\n",
    "Z tabeli Tags należy wybrać kolumny TagsName i Count. Następnie należy ustawić wiersze malejąco pod względem wartości z kolumny Count i wybrać pierwsze 10 wierszy.\n",
    "\n",
    "1. Rozwiązanie referencyjne"
   ]
  },
  {
   "cell_type": "code",
   "execution_count": 65,
   "metadata": {},
   "outputs": [],
   "source": [
    "df_sql_1 = pd.read_sql_query(\"\"\"SELECT TagName, Count\n",
    "                  FROM Tags\n",
    "                  ORDER BY Count DESC\n",
    "                  LIMIT 10\"\"\", conn)"
   ]
  },
  {
   "cell_type": "markdown",
   "metadata": {},
   "source": [
    "2. Rowiązanie za pomocą funkcji i metod z pakietu pandas"
   ]
  },
  {
   "cell_type": "code",
   "execution_count": 66,
   "metadata": {},
   "outputs": [
    {
     "data": {
      "text/html": [
       "<div>\n",
       "<style scoped>\n",
       "    .dataframe tbody tr th:only-of-type {\n",
       "        vertical-align: middle;\n",
       "    }\n",
       "\n",
       "    .dataframe tbody tr th {\n",
       "        vertical-align: top;\n",
       "    }\n",
       "\n",
       "    .dataframe thead th {\n",
       "        text-align: right;\n",
       "    }\n",
       "</style>\n",
       "<table border=\"1\" class=\"dataframe\">\n",
       "  <thead>\n",
       "    <tr style=\"text-align: right;\">\n",
       "      <th></th>\n",
       "      <th>TagName</th>\n",
       "      <th>Count</th>\n",
       "    </tr>\n",
       "  </thead>\n",
       "  <tbody>\n",
       "    <tr>\n",
       "      <th>0</th>\n",
       "      <td>visas</td>\n",
       "      <td>5271</td>\n",
       "    </tr>\n",
       "    <tr>\n",
       "      <th>1</th>\n",
       "      <td>usa</td>\n",
       "      <td>2858</td>\n",
       "    </tr>\n",
       "    <tr>\n",
       "      <th>2</th>\n",
       "      <td>air-travel</td>\n",
       "      <td>2830</td>\n",
       "    </tr>\n",
       "    <tr>\n",
       "      <th>3</th>\n",
       "      <td>uk</td>\n",
       "      <td>2114</td>\n",
       "    </tr>\n",
       "    <tr>\n",
       "      <th>4</th>\n",
       "      <td>schengen</td>\n",
       "      <td>2094</td>\n",
       "    </tr>\n",
       "    <tr>\n",
       "      <th>5</th>\n",
       "      <td>customs-and-immigration</td>\n",
       "      <td>1798</td>\n",
       "    </tr>\n",
       "    <tr>\n",
       "      <th>6</th>\n",
       "      <td>transit</td>\n",
       "      <td>1204</td>\n",
       "    </tr>\n",
       "    <tr>\n",
       "      <th>7</th>\n",
       "      <td>trains</td>\n",
       "      <td>1031</td>\n",
       "    </tr>\n",
       "    <tr>\n",
       "      <th>8</th>\n",
       "      <td>passports</td>\n",
       "      <td>954</td>\n",
       "    </tr>\n",
       "    <tr>\n",
       "      <th>9</th>\n",
       "      <td>indian-citizens</td>\n",
       "      <td>916</td>\n",
       "    </tr>\n",
       "  </tbody>\n",
       "</table>\n",
       "</div>"
      ],
      "text/plain": [
       "                   TagName  Count\n",
       "0                    visas   5271\n",
       "1                      usa   2858\n",
       "2               air-travel   2830\n",
       "3                       uk   2114\n",
       "4                 schengen   2094\n",
       "5  customs-and-immigration   1798\n",
       "6                  transit   1204\n",
       "7                   trains   1031\n",
       "8                passports    954\n",
       "9          indian-citizens    916"
      ]
     },
     "execution_count": 66,
     "metadata": {},
     "output_type": "execute_result"
    }
   ],
   "source": [
    "df_1 = Tags[[\"TagName\", \"Count\"]].sort_values(\"Count\", ascending = False)\\\n",
    "    .iloc[0:10].reset_index(drop = True)\n",
    "\n",
    "df_1"
   ]
  },
  {
   "cell_type": "markdown",
   "metadata": {},
   "source": [
    "* Sprawdzenie tożsamości uzyskanych wyników"
   ]
  },
  {
   "cell_type": "code",
   "execution_count": 67,
   "metadata": {},
   "outputs": [
    {
     "data": {
      "text/plain": [
       "True"
      ]
     },
     "execution_count": 67,
     "metadata": {},
     "output_type": "execute_result"
    }
   ],
   "source": [
    "df_1.equals(df_sql_1)"
   ]
  },
  {
   "cell_type": "markdown",
   "metadata": {},
   "source": [
    "### Przykład 2\n",
    "\n",
    "Tworzymy tabelkę CmtTotScr poprzez przypisanie każdej występującej w tabelce Comments kombinacji wartości PostId i i UserId sumy wartości Score w kolumnie, którą nazywamy CommentsTotalScore.\n",
    "\n",
    "Łączymy tabelkę Posts z CmtTotScr poprzez wartości z kolumny Posts.Id i wartości z kolumny CmTotScr.CommentsTotalScore - łączymy rzędy Posts z rzędami CmTotScr tam, gdzie wartość Posts.Id jest równa wartości CmTotScr. CommentsTotalScore. Wybieramy wiersze, w których wartość w kolumnie Posts.PostTypeId jest równa 1. Następnie ustawiamy wiersze w kolejności malejącej pod względem wartości z CommentsTotalScore i wybieramy pierwsze 10 wierszy. Na koniec wybieramy kolumny Posts.Title, Posts.CommentCount, CmTotScr.CommentsTotalScore i Posts.ViewCount.\n",
    "\n",
    "1. Rozwiązanie Referencyjne"
   ]
  },
  {
   "cell_type": "code",
   "execution_count": 68,
   "metadata": {},
   "outputs": [],
   "source": [
    "df_sql_2 = pd.read_sql_query(\"\"\"SELECT\n",
    "                          Posts.Title, Posts.CommentCount,\n",
    "                          CmtTotScr.CommentsTotalScore,\n",
    "                          Posts.ViewCount\n",
    "                          FROM (SELECT PostID,UserID,\n",
    "                              SUM(Score) AS CommentsTotalScore\n",
    "                              FROM Comments\n",
    "                              GROUP BY PostID, UserID\n",
    "                              ) AS CmtTotScr\n",
    "                          JOIN Posts ON Posts.ID=CmtTotScr.PostID\n",
    "                          WHERE Posts.PostTypeId=1\n",
    "                          ORDER BY CmtTotScr.CommentsTotalScore DESC\n",
    "                          LIMIT 10\"\"\", conn)"
   ]
  },
  {
   "cell_type": "markdown",
   "metadata": {},
   "source": [
    "2. Rowiązanie za pomocą funkcji i metod z pakietu pandas"
   ]
  },
  {
   "cell_type": "code",
   "execution_count": 69,
   "metadata": {},
   "outputs": [
    {
     "data": {
      "text/html": [
       "<div>\n",
       "<style scoped>\n",
       "    .dataframe tbody tr th:only-of-type {\n",
       "        vertical-align: middle;\n",
       "    }\n",
       "\n",
       "    .dataframe tbody tr th {\n",
       "        vertical-align: top;\n",
       "    }\n",
       "\n",
       "    .dataframe thead th {\n",
       "        text-align: right;\n",
       "    }\n",
       "</style>\n",
       "<table border=\"1\" class=\"dataframe\">\n",
       "  <thead>\n",
       "    <tr style=\"text-align: right;\">\n",
       "      <th></th>\n",
       "      <th>Title</th>\n",
       "      <th>CommentCount</th>\n",
       "      <th>CommentsTotalScore</th>\n",
       "      <th>ViewCount</th>\n",
       "    </tr>\n",
       "  </thead>\n",
       "  <tbody>\n",
       "    <tr>\n",
       "      <th>0</th>\n",
       "      <td>Boss is asking for passport, but it has a stam...</td>\n",
       "      <td>24</td>\n",
       "      <td>207</td>\n",
       "      <td>54982.0</td>\n",
       "    </tr>\n",
       "    <tr>\n",
       "      <th>1</th>\n",
       "      <td>Why don't airlines have backup planes just in ...</td>\n",
       "      <td>26</td>\n",
       "      <td>172</td>\n",
       "      <td>14516.0</td>\n",
       "    </tr>\n",
       "    <tr>\n",
       "      <th>2</th>\n",
       "      <td>OK we're all adults here, so really, how on ea...</td>\n",
       "      <td>27</td>\n",
       "      <td>155</td>\n",
       "      <td>73808.0</td>\n",
       "    </tr>\n",
       "    <tr>\n",
       "      <th>3</th>\n",
       "      <td>How to cross a road by foot in a country that ...</td>\n",
       "      <td>25</td>\n",
       "      <td>140</td>\n",
       "      <td>5240.0</td>\n",
       "    </tr>\n",
       "    <tr>\n",
       "      <th>4</th>\n",
       "      <td>Where can I change my clothes at the airport?</td>\n",
       "      <td>16</td>\n",
       "      <td>128</td>\n",
       "      <td>12020.0</td>\n",
       "    </tr>\n",
       "    <tr>\n",
       "      <th>5</th>\n",
       "      <td>Boss is asking for passport, but it has a stam...</td>\n",
       "      <td>24</td>\n",
       "      <td>121</td>\n",
       "      <td>54982.0</td>\n",
       "    </tr>\n",
       "    <tr>\n",
       "      <th>6</th>\n",
       "      <td>How to avoid toddlers on a long-distance plane...</td>\n",
       "      <td>19</td>\n",
       "      <td>120</td>\n",
       "      <td>24955.0</td>\n",
       "    </tr>\n",
       "    <tr>\n",
       "      <th>7</th>\n",
       "      <td>Job interview in London requires me to wire mo...</td>\n",
       "      <td>23</td>\n",
       "      <td>116</td>\n",
       "      <td>14827.0</td>\n",
       "    </tr>\n",
       "    <tr>\n",
       "      <th>8</th>\n",
       "      <td>What to do without underwear on a 4 day trip?</td>\n",
       "      <td>13</td>\n",
       "      <td>110</td>\n",
       "      <td>11713.0</td>\n",
       "    </tr>\n",
       "    <tr>\n",
       "      <th>9</th>\n",
       "      <td>OK, we are all adults here, so what is a bidet...</td>\n",
       "      <td>28</td>\n",
       "      <td>109</td>\n",
       "      <td>52265.0</td>\n",
       "    </tr>\n",
       "  </tbody>\n",
       "</table>\n",
       "</div>"
      ],
      "text/plain": [
       "                                               Title  CommentCount  \\\n",
       "0  Boss is asking for passport, but it has a stam...            24   \n",
       "1  Why don't airlines have backup planes just in ...            26   \n",
       "2  OK we're all adults here, so really, how on ea...            27   \n",
       "3  How to cross a road by foot in a country that ...            25   \n",
       "4      Where can I change my clothes at the airport?            16   \n",
       "5  Boss is asking for passport, but it has a stam...            24   \n",
       "6  How to avoid toddlers on a long-distance plane...            19   \n",
       "7  Job interview in London requires me to wire mo...            23   \n",
       "8      What to do without underwear on a 4 day trip?            13   \n",
       "9  OK, we are all adults here, so what is a bidet...            28   \n",
       "\n",
       "   CommentsTotalScore  ViewCount  \n",
       "0                 207    54982.0  \n",
       "1                 172    14516.0  \n",
       "2                 155    73808.0  \n",
       "3                 140     5240.0  \n",
       "4                 128    12020.0  \n",
       "5                 121    54982.0  \n",
       "6                 120    24955.0  \n",
       "7                 116    14827.0  \n",
       "8                 110    11713.0  \n",
       "9                 109    52265.0  "
      ]
     },
     "execution_count": 69,
     "metadata": {},
     "output_type": "execute_result"
    }
   ],
   "source": [
    "tmp = Comments.groupby([\"PostId\", \"UserId\"])\n",
    "CmtTotScr = pd.DataFrame([{\"CommentsTotalScore\" : sum(ramka.Score),\n",
    "                           \"PostId\" : grupa[0],\n",
    "                           \"UserId\" : grupa[1]}\n",
    "                          for (grupa, ramka) in tmp])\n",
    "df_2 = Posts.loc[Posts.PostTypeId == 1, [\"Id\", \"Title\", \"CommentCount\", \"ViewCount\"]]\n",
    "df_2 = pd.merge(df_2, CmtTotScr, left_on = \"Id\", right_on = \"PostId\" )\n",
    "df_2 = df_2[[\"Title\", \"CommentCount\", \"CommentsTotalScore\", \"ViewCount\"]]\\\n",
    "    .sort_values(\"CommentsTotalScore\", ascending = False).iloc[0:10]\\\n",
    "        .reset_index(drop = True)\n",
    "\n",
    "df_2"
   ]
  },
  {
   "cell_type": "markdown",
   "metadata": {},
   "source": [
    "* Sprawdzenie tożsamości uzyskanych wyników"
   ]
  },
  {
   "cell_type": "code",
   "execution_count": 70,
   "metadata": {},
   "outputs": [
    {
     "data": {
      "text/plain": [
       "True"
      ]
     },
     "execution_count": 70,
     "metadata": {},
     "output_type": "execute_result"
    }
   ],
   "source": [
    "df_2.equals(df_sql_2)"
   ]
  },
  {
   "cell_type": "markdown",
   "metadata": {},
   "source": [
    "### Przykład 3\n",
    "\n",
    "Łączymy ze sobą tabelkę Users i Posts poprzez wartości z kolumny Users.AccountId i wartości z kolumny Posts.OwnerUserId - łączymy rzędy Users z rzędami Posts tam, gdzie wartość Users.AccountId jest równa wartości Posts.OwnerUsersId. Następnie usuwamy wiersze, w których wartość w kolumnie OwnerUserId wynosi -1. Każdej wartości z OwnerUserId przypisujemy średnią wartość Score W kolumnie, którą nazywamy PostsMeanScore i maksymalną wartość CreationDate w kolumnie, którą nazywamy LastPostCreationDate. Wybieramy z utworzonej tabelki kolumny Users.DisplayName, Users.Age, Users.Location, Posts.PostsMeanScore i Posts.LastPostCreationDate, a następnie ustawiamy wiersze w kolejności malejącej pod względem wartości z PostsMeanScore i wybieramy pierwsze 10 wierszy.\n",
    "\n",
    "1. Rozwiązanie referencyjne"
   ]
  },
  {
   "cell_type": "code",
   "execution_count": 71,
   "metadata": {},
   "outputs": [],
   "source": [
    "df_sql_3 = pd.read_sql_query(\"\"\"SELECT Users.DisplayName, Users.Age, Users.Location,\n",
    "                                AVG(Posts.Score) as PostsMeanScore,\n",
    "                                MAX(Posts.CreationDate) AS LastPostCreationDate\n",
    "                                FROM Posts\n",
    "                                JOIN Users ON Users.AccountId=Posts.OwnerUserId\n",
    "                                WHERE OwnerUserId != -1\n",
    "                                GROUP BY OwnerUserId\n",
    "                                ORDER BY PostsMeanScore DESC\n",
    "                                LIMIT 10\"\"\", conn)"
   ]
  },
  {
   "cell_type": "markdown",
   "metadata": {},
   "source": [
    "2. Rowiązanie za pomocą funkcji i metod z pakietu pandas"
   ]
  },
  {
   "cell_type": "code",
   "execution_count": 72,
   "metadata": {
    "scrolled": true
   },
   "outputs": [
    {
     "data": {
      "text/html": [
       "<div>\n",
       "<style scoped>\n",
       "    .dataframe tbody tr th:only-of-type {\n",
       "        vertical-align: middle;\n",
       "    }\n",
       "\n",
       "    .dataframe tbody tr th {\n",
       "        vertical-align: top;\n",
       "    }\n",
       "\n",
       "    .dataframe thead th {\n",
       "        text-align: right;\n",
       "    }\n",
       "</style>\n",
       "<table border=\"1\" class=\"dataframe\">\n",
       "  <thead>\n",
       "    <tr style=\"text-align: right;\">\n",
       "      <th></th>\n",
       "      <th>DisplayName</th>\n",
       "      <th>Age</th>\n",
       "      <th>Location</th>\n",
       "      <th>PostsMeanScore</th>\n",
       "      <th>LastPostCreationDate</th>\n",
       "    </tr>\n",
       "  </thead>\n",
       "  <tbody>\n",
       "    <tr>\n",
       "      <th>0</th>\n",
       "      <td>Oded</td>\n",
       "      <td>44.0</td>\n",
       "      <td>London, United Kingdom</td>\n",
       "      <td>52.0</td>\n",
       "      <td>2011-11-03T14:40:36.870</td>\n",
       "    </tr>\n",
       "    <tr>\n",
       "      <th>1</th>\n",
       "      <td>Rook</td>\n",
       "      <td>NaN</td>\n",
       "      <td>NaN</td>\n",
       "      <td>50.0</td>\n",
       "      <td>2016-05-27T03:17:41.753</td>\n",
       "    </tr>\n",
       "    <tr>\n",
       "      <th>2</th>\n",
       "      <td>JPhi1618</td>\n",
       "      <td>NaN</td>\n",
       "      <td>Dallas, Texas, United States</td>\n",
       "      <td>45.0</td>\n",
       "      <td>2015-09-26T17:43:19.090</td>\n",
       "    </tr>\n",
       "    <tr>\n",
       "      <th>3</th>\n",
       "      <td>csmba</td>\n",
       "      <td>42.0</td>\n",
       "      <td>San Francisco, CA</td>\n",
       "      <td>43.0</td>\n",
       "      <td>2012-01-15T14:27:11.070</td>\n",
       "    </tr>\n",
       "    <tr>\n",
       "      <th>4</th>\n",
       "      <td>Petrogad</td>\n",
       "      <td>32.0</td>\n",
       "      <td>NaN</td>\n",
       "      <td>41.0</td>\n",
       "      <td>2016-04-16T19:44:21.020</td>\n",
       "    </tr>\n",
       "    <tr>\n",
       "      <th>5</th>\n",
       "      <td>Josh</td>\n",
       "      <td>NaN</td>\n",
       "      <td>Australia</td>\n",
       "      <td>33.0</td>\n",
       "      <td>2011-12-23T18:16:21.877</td>\n",
       "    </tr>\n",
       "    <tr>\n",
       "      <th>6</th>\n",
       "      <td>Dan Esparza</td>\n",
       "      <td>43.0</td>\n",
       "      <td>Atlanta, GA, United States</td>\n",
       "      <td>30.0</td>\n",
       "      <td>2014-01-26T21:12:59.673</td>\n",
       "    </tr>\n",
       "    <tr>\n",
       "      <th>7</th>\n",
       "      <td>James</td>\n",
       "      <td>NaN</td>\n",
       "      <td>NaN</td>\n",
       "      <td>29.5</td>\n",
       "      <td>2017-05-11T00:13:37.897</td>\n",
       "    </tr>\n",
       "    <tr>\n",
       "      <th>8</th>\n",
       "      <td>Brad Rhoads</td>\n",
       "      <td>NaN</td>\n",
       "      <td>Nampa, ID</td>\n",
       "      <td>29.0</td>\n",
       "      <td>2016-04-11T11:10:14.240</td>\n",
       "    </tr>\n",
       "    <tr>\n",
       "      <th>9</th>\n",
       "      <td>Dexter</td>\n",
       "      <td>34.0</td>\n",
       "      <td>London, United Kingdom</td>\n",
       "      <td>28.5</td>\n",
       "      <td>2015-05-06T00:23:36.353</td>\n",
       "    </tr>\n",
       "  </tbody>\n",
       "</table>\n",
       "</div>"
      ],
      "text/plain": [
       "   DisplayName   Age                      Location  PostsMeanScore  \\\n",
       "0         Oded  44.0        London, United Kingdom            52.0   \n",
       "1         Rook   NaN                           NaN            50.0   \n",
       "2     JPhi1618   NaN  Dallas, Texas, United States            45.0   \n",
       "3        csmba  42.0             San Francisco, CA            43.0   \n",
       "4     Petrogad  32.0                           NaN            41.0   \n",
       "5         Josh   NaN                     Australia            33.0   \n",
       "6  Dan Esparza  43.0    Atlanta, GA, United States            30.0   \n",
       "7        James   NaN                           NaN            29.5   \n",
       "8  Brad Rhoads   NaN                     Nampa, ID            29.0   \n",
       "9       Dexter  34.0        London, United Kingdom            28.5   \n",
       "\n",
       "      LastPostCreationDate  \n",
       "0  2011-11-03T14:40:36.870  \n",
       "1  2016-05-27T03:17:41.753  \n",
       "2  2015-09-26T17:43:19.090  \n",
       "3  2012-01-15T14:27:11.070  \n",
       "4  2016-04-16T19:44:21.020  \n",
       "5  2011-12-23T18:16:21.877  \n",
       "6  2014-01-26T21:12:59.673  \n",
       "7  2017-05-11T00:13:37.897  \n",
       "8  2016-04-11T11:10:14.240  \n",
       "9  2015-05-06T00:23:36.353  "
      ]
     },
     "execution_count": 72,
     "metadata": {},
     "output_type": "execute_result"
    }
   ],
   "source": [
    "tmp1 = Posts.loc[Posts.OwnerUserId != -1].groupby(\"OwnerUserId\").Score.agg(\"mean\").to_frame().reset_index()\n",
    "tmp2 = Posts.loc[Posts.OwnerUserId != -1].groupby(\"OwnerUserId\").CreationDate.agg(\"max\").to_frame().reset_index()\n",
    "df_tmp = pd.merge(tmp1, tmp2, on = \"OwnerUserId\")\n",
    "\n",
    "df_3 = pd.merge(Users, df_tmp, left_on = \"AccountId\", right_on = \"OwnerUserId\")\n",
    "df_3 = df_3[[\"DisplayName\", \"Age\", \"Location\", \"Score\", \"CreationDate_y\"]].sort_values(\"Score\", ascending = False).iloc[0:10]\\\n",
    "        .reset_index(drop = True).rename(columns = {\"Score\" : \"PostsMeanScore\", \"CreationDate_y\" : \"LastPostCreationDate\"})\n",
    "\n",
    "df_3"
   ]
  },
  {
   "cell_type": "markdown",
   "metadata": {},
   "source": [
    "* Sprawdzenie tożsamości uzyskanych wyników"
   ]
  },
  {
   "cell_type": "code",
   "execution_count": 73,
   "metadata": {},
   "outputs": [
    {
     "data": {
      "text/plain": [
       "True"
      ]
     },
     "execution_count": 73,
     "metadata": {},
     "output_type": "execute_result"
    }
   ],
   "source": [
    "df_3.equals(df_sql_3)"
   ]
  },
  {
   "cell_type": "markdown",
   "metadata": {},
   "source": [
    "### Przykład 4\n",
    "\n",
    "Tworzymy tabelkę Tab1 poprzez połączenie tabelki Users i Posts poprzez wartości z kolumny Users.Id i wartości z kolumny Posts.OwnerUserId - łączymy rzędy Users z rzędami Posts tam, gdzie wartość Users.Id jest równa wartości Posts.OwnerUsersId. Wybieramy wiersze, w których wartość PostTypeId jest równa 2. Każdej wartości z kolumny Users.Id przypisujemy ilość jej przypisanych wartości DisplayName w kolumnie, którą nazywamy AnswersNumber. Na koniec wybieramy z tabelki kolumny Users.Id, Users.DisplayName i AnswersNumber.\n",
    "\n",
    "Następnie tworzymy tabelkę Tab2 poprzez połączenie tabelek Users i Posts poprzez wartości z kolumny Users.Id i wartości z kolumny Posts.OwnerUserId - łączymy rzędy Users z rzędami Posts tam, gdzie wartość Users. Wybieramy wiersze, w których wartość PostTypeId jest równa 1. Każdej wartości Id przypisujemy ilość jej występowania w kolumnie, którą nazywamy QuestionsNumber. Na koniec wybieramy z tabelki kolumny Users.Id i QuestionsNumber.\n",
    "\n",
    "Łączymy ze sobą obie tabelki poprzez kolumnę Id - łączymy rzędy Tab1 i Tab2 tam, gdzie wartość Tab1.Id jest równa Tab2.Id. Wybieramy wiersze, w których wartość w kolumnie QuestionsNumber jest mniejsza niż wartość w kolumnie AnswersNumber. Ustawiamy wiersze w kolejności malejącej pod względem wartości z Answers Number. Wybieramy z tabelki kolumny DisplayName, QuestionsNumber i AnswersNumber.\n",
    "\n",
    "1. Rozwiązanie Referencyjne"
   ]
  },
  {
   "cell_type": "code",
   "execution_count": 99,
   "metadata": {
    "scrolled": true
   },
   "outputs": [],
   "source": [
    "df_sql_4 = pd.read_sql_query(\"\"\"SELECT DisplayName, QuestionsNumber, AnswersNumber\n",
    "                                FROM\n",
    "                                    (SELECT COUNT(*) as AnswersNumber, Users.DisplayName, Users.Id\n",
    "                                        FROM Users \n",
    "                                        JOIN Posts ON Users.Id = Posts.OwnerUserId\n",
    "                                        WHERE Posts.PostTypeId = 2\n",
    "                                        GROUP BY Users.Id) AS Tab1\n",
    "                                JOIN\n",
    "                                    (SELECT COUNT(*) as QuestionsNumber, Users.Id\n",
    "                                        FROM Users JOIN Posts ON Users.Id = Posts.OwnerUserId\n",
    "                                        WHERE Posts.PostTypeId = 1\n",
    "                                        GROUP BY Users.Id) AS Tab2\n",
    "                                ON Tab1.Id = Tab2.Id\n",
    "                                WHERE QuestionsNumber < AnswersNumber\n",
    "                                ORDER BY AnswersNumber DESC LIMIT 10\"\"\", conn)"
   ]
  },
  {
   "cell_type": "markdown",
   "metadata": {},
   "source": [
    "2. Rowiązanie za pomocą funkcji i metod z pakietu pandas"
   ]
  },
  {
   "cell_type": "code",
   "execution_count": 100,
   "metadata": {
    "scrolled": true
   },
   "outputs": [
    {
     "data": {
      "text/html": [
       "<div>\n",
       "<style scoped>\n",
       "    .dataframe tbody tr th:only-of-type {\n",
       "        vertical-align: middle;\n",
       "    }\n",
       "\n",
       "    .dataframe tbody tr th {\n",
       "        vertical-align: top;\n",
       "    }\n",
       "\n",
       "    .dataframe thead th {\n",
       "        text-align: right;\n",
       "    }\n",
       "</style>\n",
       "<table border=\"1\" class=\"dataframe\">\n",
       "  <thead>\n",
       "    <tr style=\"text-align: right;\">\n",
       "      <th></th>\n",
       "      <th>DisplayName</th>\n",
       "      <th>QuestionsNumber</th>\n",
       "      <th>AnswersNumber</th>\n",
       "    </tr>\n",
       "  </thead>\n",
       "  <tbody>\n",
       "    <tr>\n",
       "      <th>0</th>\n",
       "      <td>Mark Mayo</td>\n",
       "      <td>318</td>\n",
       "      <td>1726</td>\n",
       "    </tr>\n",
       "    <tr>\n",
       "      <th>1</th>\n",
       "      <td>Relaxed</td>\n",
       "      <td>8</td>\n",
       "      <td>1225</td>\n",
       "    </tr>\n",
       "    <tr>\n",
       "      <th>2</th>\n",
       "      <td>jpatokal</td>\n",
       "      <td>58</td>\n",
       "      <td>999</td>\n",
       "    </tr>\n",
       "    <tr>\n",
       "      <th>3</th>\n",
       "      <td>Gayot Fow</td>\n",
       "      <td>86</td>\n",
       "      <td>824</td>\n",
       "    </tr>\n",
       "    <tr>\n",
       "      <th>4</th>\n",
       "      <td>Burhan Khalid</td>\n",
       "      <td>12</td>\n",
       "      <td>638</td>\n",
       "    </tr>\n",
       "    <tr>\n",
       "      <th>5</th>\n",
       "      <td>Karlson</td>\n",
       "      <td>44</td>\n",
       "      <td>631</td>\n",
       "    </tr>\n",
       "    <tr>\n",
       "      <th>6</th>\n",
       "      <td>chx</td>\n",
       "      <td>61</td>\n",
       "      <td>594</td>\n",
       "    </tr>\n",
       "    <tr>\n",
       "      <th>7</th>\n",
       "      <td>Crazydre</td>\n",
       "      <td>119</td>\n",
       "      <td>587</td>\n",
       "    </tr>\n",
       "    <tr>\n",
       "      <th>8</th>\n",
       "      <td>phoog</td>\n",
       "      <td>5</td>\n",
       "      <td>532</td>\n",
       "    </tr>\n",
       "    <tr>\n",
       "      <th>9</th>\n",
       "      <td>JonathanReez</td>\n",
       "      <td>204</td>\n",
       "      <td>493</td>\n",
       "    </tr>\n",
       "  </tbody>\n",
       "</table>\n",
       "</div>"
      ],
      "text/plain": [
       "     DisplayName  QuestionsNumber  AnswersNumber\n",
       "0      Mark Mayo              318           1726\n",
       "1        Relaxed                8           1225\n",
       "2       jpatokal               58            999\n",
       "3      Gayot Fow               86            824\n",
       "4  Burhan Khalid               12            638\n",
       "5        Karlson               44            631\n",
       "6            chx               61            594\n",
       "7       Crazydre              119            587\n",
       "8          phoog                5            532\n",
       "9   JonathanReez              204            493"
      ]
     },
     "execution_count": 100,
     "metadata": {},
     "output_type": "execute_result"
    }
   ],
   "source": [
    "tab1 = pd.merge(Users[[\"DisplayName\", \"Id\"]], Posts.loc[Posts.PostTypeId == 2, [\"OwnerUserId\"]],\n",
    "                left_on = \"Id\", right_on = \"OwnerUserId\")\n",
    "tmp = tab1.groupby(\"Id\").OwnerUserId.agg(\"count\").to_frame().reset_index().rename(columns = {\"OwnerUserId\" : \"AnswersNumber\"})\n",
    "tab1 = pd.merge(tmp, Users[[\"DisplayName\", \"Id\"]], how = \"left\", on = \"Id\")\n",
    "\n",
    "tab2 = pd.merge(Users[[\"Id\"]], Posts.loc[Posts.PostTypeId == 1, [\"OwnerUserId\"]],\n",
    "                left_on = \"Id\", right_on = \"OwnerUserId\")\n",
    "tab2 = tab2.groupby(\"Id\").OwnerUserId.agg(\"count\").to_frame().reset_index().rename(columns = {\"OwnerUserId\" : \"QuestionsNumber\"})\n",
    "\n",
    "df_4 = pd.merge(tab1, tab2, on = \"Id\")\n",
    "df_4 = df_4.loc[df_4.QuestionsNumber < df_4.AnswersNumber, [\"DisplayName\", \"QuestionsNumber\", \"AnswersNumber\"]]\\\n",
    "        .sort_values(\"AnswersNumber\", ascending = False).reset_index(drop = True).iloc[0:10]\n",
    "\n",
    "df_4"
   ]
  },
  {
   "cell_type": "markdown",
   "metadata": {},
   "source": [
    "* Sprawdzenie tożsamości uzyskanych wyników"
   ]
  },
  {
   "cell_type": "code",
   "execution_count": 101,
   "metadata": {
    "scrolled": true
   },
   "outputs": [
    {
     "data": {
      "text/plain": [
       "True"
      ]
     },
     "execution_count": 101,
     "metadata": {},
     "output_type": "execute_result"
    }
   ],
   "source": [
    "df_4.equals(df_sql_4)"
   ]
  },
  {
   "cell_type": "markdown",
   "metadata": {},
   "source": [
    "### Przykład 5\n",
    "\n",
    "Tworzymy tabelkę BestAnswers poprzez wybranie z tabelki Posts wierszy, w których wartości w kolumnie PostTypeId jest równe 2. Następnie do każdej wartości w kolumnie ParentId przypisujemy maksymalną wartość Score w kolumnie, którą nazywamy MaxScore. Następnie wybieramy kolumny Id, ParentId i MaxScore.\n",
    "\n",
    "Tworzymy tablekę Questions poprzez wybranie z tabelki Posts wierszy, w których wartość w kolumnie PostTypeId jest równa 1.\n",
    "\n",
    "Łączymy ze sobą tabelki BestAnswers i Questions poprzez wartości z kolumny Questions.Id i wartości z kolumny BestAnswers.ParentId - łączymy rzędy BestAnswers z rzędami Questions tam, gdzie wartość Questions.Id jest równa wartości BestAnswers.ParentId. Następnie w ten sposób utworzoną tabelkę łączymy z tabelką Posts poprzez wartości z kolumny Questions.AcceptedAnswerId i wartości z kolumny Posts.Id - łączymy rzędy Posts z rzędami utworzonej tabelki tam, gdzie wartość Questions.AcceptedAnswerId jest równa wartości z Posts.Id.\n",
    "\n",
    "Wybieramy kolumny Questions.Id, Questions.Title, BestAnswers.MaxScore, Posts.Score (zmieniamy jej nazwę na AcceptedScore), a następnie dodajemny kolumnę Difference, która zawiera wartości MaxScore - AcceptedScore. Wiersze ustawiamy malejąco pod względem wartości z kolmuny Difference i wybieramy pierwsze 10 wierszy.\n",
    "\n",
    "1. Rozwiązanie referencyjne"
   ]
  },
  {
   "cell_type": "code",
   "execution_count": 96,
   "metadata": {},
   "outputs": [],
   "source": [
    "df_sql_5 = pd.read_sql_query(\"\"\"SELECT Questions.Id, Questions.Title, BestAnswers.MaxScore, \n",
    "                                Posts.Score AS AcceptedScore, BestAnswers.MaxScore-Posts.Score AS Difference\n",
    "                                FROM \n",
    "                                    (SELECT Id, ParentId, MAX(Score) AS MaxScore\n",
    "                                    FROM Posts\n",
    "                                    WHERE PostTypeId==2\n",
    "                                    GROUP BY ParentId) AS BestAnswers\n",
    "                                JOIN \n",
    "                                    (SELECT * FROM Posts\n",
    "                                    WHERE PostTypeId==1) AS Questions\n",
    "                                ON Questions.Id=BestAnswers.ParentId\n",
    "                                JOIN Posts ON Questions.AcceptedAnswerId=Posts.Id\n",
    "                                ORDER BY Difference DESC\n",
    "                                LIMIT 10\"\"\", conn)"
   ]
  },
  {
   "cell_type": "markdown",
   "metadata": {},
   "source": [
    "2. Rowiązanie za pomocą funkcji i metod z pakietu pandas"
   ]
  },
  {
   "cell_type": "code",
   "execution_count": 97,
   "metadata": {
    "scrolled": true
   },
   "outputs": [
    {
     "data": {
      "text/html": [
       "<div>\n",
       "<style scoped>\n",
       "    .dataframe tbody tr th:only-of-type {\n",
       "        vertical-align: middle;\n",
       "    }\n",
       "\n",
       "    .dataframe tbody tr th {\n",
       "        vertical-align: top;\n",
       "    }\n",
       "\n",
       "    .dataframe thead th {\n",
       "        text-align: right;\n",
       "    }\n",
       "</style>\n",
       "<table border=\"1\" class=\"dataframe\">\n",
       "  <thead>\n",
       "    <tr style=\"text-align: right;\">\n",
       "      <th></th>\n",
       "      <th>Id</th>\n",
       "      <th>Title</th>\n",
       "      <th>MaxScore</th>\n",
       "      <th>AcceptedScore</th>\n",
       "      <th>Difference</th>\n",
       "    </tr>\n",
       "  </thead>\n",
       "  <tbody>\n",
       "    <tr>\n",
       "      <th>0</th>\n",
       "      <td>99713</td>\n",
       "      <td>In Germany, what are you supposed to do if you...</td>\n",
       "      <td>126</td>\n",
       "      <td>33</td>\n",
       "      <td>93</td>\n",
       "    </tr>\n",
       "    <tr>\n",
       "      <th>1</th>\n",
       "      <td>81376</td>\n",
       "      <td>What is way to eat rice with hands in front of...</td>\n",
       "      <td>120</td>\n",
       "      <td>30</td>\n",
       "      <td>90</td>\n",
       "    </tr>\n",
       "    <tr>\n",
       "      <th>2</th>\n",
       "      <td>76737</td>\n",
       "      <td>Why do many countries in the world still requi...</td>\n",
       "      <td>118</td>\n",
       "      <td>31</td>\n",
       "      <td>87</td>\n",
       "    </tr>\n",
       "    <tr>\n",
       "      <th>3</th>\n",
       "      <td>38177</td>\n",
       "      <td>How do you know if Americans genuinely/literal...</td>\n",
       "      <td>245</td>\n",
       "      <td>166</td>\n",
       "      <td>79</td>\n",
       "    </tr>\n",
       "    <tr>\n",
       "      <th>4</th>\n",
       "      <td>90636</td>\n",
       "      <td>Caught speeding 111 Mph (179 km/h) in Californ...</td>\n",
       "      <td>101</td>\n",
       "      <td>25</td>\n",
       "      <td>76</td>\n",
       "    </tr>\n",
       "    <tr>\n",
       "      <th>5</th>\n",
       "      <td>81492</td>\n",
       "      <td>Why is international first class much more exp...</td>\n",
       "      <td>90</td>\n",
       "      <td>21</td>\n",
       "      <td>69</td>\n",
       "    </tr>\n",
       "    <tr>\n",
       "      <th>6</th>\n",
       "      <td>94320</td>\n",
       "      <td>Strange looking region of France on Google Maps</td>\n",
       "      <td>71</td>\n",
       "      <td>7</td>\n",
       "      <td>64</td>\n",
       "    </tr>\n",
       "    <tr>\n",
       "      <th>7</th>\n",
       "      <td>80050</td>\n",
       "      <td>What's an easy way of making my luggage unique...</td>\n",
       "      <td>72</td>\n",
       "      <td>16</td>\n",
       "      <td>56</td>\n",
       "    </tr>\n",
       "    <tr>\n",
       "      <th>8</th>\n",
       "      <td>69224</td>\n",
       "      <td>How can a tourist obtain an 'authentic' duelli...</td>\n",
       "      <td>96</td>\n",
       "      <td>47</td>\n",
       "      <td>49</td>\n",
       "    </tr>\n",
       "    <tr>\n",
       "      <th>9</th>\n",
       "      <td>20171</td>\n",
       "      <td>How to prevent the passenger in front of you f...</td>\n",
       "      <td>59</td>\n",
       "      <td>12</td>\n",
       "      <td>47</td>\n",
       "    </tr>\n",
       "  </tbody>\n",
       "</table>\n",
       "</div>"
      ],
      "text/plain": [
       "      Id                                              Title  MaxScore  \\\n",
       "0  99713  In Germany, what are you supposed to do if you...       126   \n",
       "1  81376  What is way to eat rice with hands in front of...       120   \n",
       "2  76737  Why do many countries in the world still requi...       118   \n",
       "3  38177  How do you know if Americans genuinely/literal...       245   \n",
       "4  90636  Caught speeding 111 Mph (179 km/h) in Californ...       101   \n",
       "5  81492  Why is international first class much more exp...        90   \n",
       "6  94320    Strange looking region of France on Google Maps        71   \n",
       "7  80050  What's an easy way of making my luggage unique...        72   \n",
       "8  69224  How can a tourist obtain an 'authentic' duelli...        96   \n",
       "9  20171  How to prevent the passenger in front of you f...        59   \n",
       "\n",
       "   AcceptedScore  Difference  \n",
       "0             33          93  \n",
       "1             30          90  \n",
       "2             31          87  \n",
       "3            166          79  \n",
       "4             25          76  \n",
       "5             21          69  \n",
       "6              7          64  \n",
       "7             16          56  \n",
       "8             47          49  \n",
       "9             12          47  "
      ]
     },
     "execution_count": 97,
     "metadata": {},
     "output_type": "execute_result"
    }
   ],
   "source": [
    "BestAnswers = Posts.loc[Posts.PostTypeId == 2, [\"ParentId\", \"Score\"]].groupby(\"ParentId\").Score.agg(\"max\").to_frame()\\\n",
    "                .reset_index().rename(columns = {\"Score\" : \"MaxScore\"})\n",
    "df_5 = pd.merge(Posts.loc[Posts.PostTypeId == 1, [\"Id\", \"Title\", \"AcceptedAnswerId\"]], BestAnswers,\n",
    "                left_on = \"Id\", right_on = \"ParentId\")\n",
    "\n",
    "df_5 = pd.merge(df_5[[\"Id\", \"Title\", \"AcceptedAnswerId\", \"MaxScore\"]], Posts[[\"Id\", \"Score\"]], \n",
    "               left_on = \"AcceptedAnswerId\", right_on = \"Id\")\n",
    "\n",
    "df_5 = df_5.assign(Difference = (df_5.MaxScore - df_5.Score))[[\"Id_x\", \"Title\", \"MaxScore\", \"Score\", \"Difference\"]]\\\n",
    "            .rename(columns = {\"Id_x\" : \"Id\", \"Score\" : \"AcceptedScore\"}).sort_values(\"Difference\", ascending = False)\\\n",
    "            .iloc[0:10].reset_index(drop = True)\n",
    "\n",
    "df_5"
   ]
  },
  {
   "cell_type": "markdown",
   "metadata": {},
   "source": [
    "* Sprawdzenie tożsamości uzyskanych wyników"
   ]
  },
  {
   "cell_type": "code",
   "execution_count": 98,
   "metadata": {},
   "outputs": [
    {
     "data": {
      "text/plain": [
       "True"
      ]
     },
     "execution_count": 98,
     "metadata": {},
     "output_type": "execute_result"
    }
   ],
   "source": [
    "df_5.equals(df_sql_5)"
   ]
  },
  {
   "cell_type": "code",
   "execution_count": 102,
   "metadata": {},
   "outputs": [],
   "source": [
    "conn.close()"
   ]
  }
 ],
 "metadata": {
  "kernelspec": {
   "display_name": "Python 3",
   "language": "python",
   "name": "python3"
  },
  "language_info": {
   "codemirror_mode": {
    "name": "ipython",
    "version": 3
   },
   "file_extension": ".py",
   "mimetype": "text/x-python",
   "name": "python",
   "nbconvert_exporter": "python",
   "pygments_lexer": "ipython3",
   "version": "3.8.5"
  }
 },
 "nbformat": 4,
 "nbformat_minor": 4
}
